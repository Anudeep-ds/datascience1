{
 "cells": [
  {
   "cell_type": "markdown",
   "metadata": {},
   "source": [
    "# NumPy\n",
    "\n",
    "numpy is python's package for doing math that is more advanced than +-*/\n",
    "\n",
    "This includes special functions like cosine, exponential, sqrt, ...\n",
    "\n",
    "On top of this we can use numpy to generate samples from many types of random variables\n",
    "\n",
    "numpy also has a powerful data type to define vectors, matrices, and tensors\n",
    "\n",
    "With these data types numpy also allows us to do linear algebra - matrix multiplication and matrix-vector solutions"
   ]
  },
  {
   "cell_type": "code",
   "execution_count": 4,
   "metadata": {},
   "outputs": [],
   "source": [
    "# the first step of using numpy is to tell python to use it\n",
    "import numpy as np"
   ]
  },
  {
   "cell_type": "code",
   "execution_count": 5,
   "metadata": {},
   "outputs": [
    {
     "name": "stdout",
     "output_type": "stream",
     "text": [
      "-1.0\n",
      "1.1\n",
      "5.2\n"
     ]
    }
   ],
   "source": [
    "print(np.cos(np.pi))\n",
    "print(np.sqrt(1.21))\n",
    "print(np.log(np.exp(5.2)))"
   ]
  },
  {
   "cell_type": "code",
   "execution_count": 6,
   "metadata": {},
   "outputs": [
    {
     "name": "stdout",
     "output_type": "stream",
     "text": [
      "[1 2 3]\n",
      "\n",
      "[[1 2 1]\n",
      " [4 5 9]\n",
      " [1 8 9]]\n",
      "\n",
      "[[1 4 1]\n",
      " [2 5 8]\n",
      " [1 9 9]]\n"
     ]
    }
   ],
   "source": [
    "# we can create numpy arrays by converting lists\n",
    "# this is a vector\n",
    "vec = np.array([1,2,3])\n",
    "print(vec)\n",
    "# we can create matrices by converting lists of lists\n",
    "mat = np.array([[1,2,1],[4,5,9],[1,8,9]])\n",
    "print('')\n",
    "print(mat)\n",
    "print('')\n",
    "print(mat.T)"
   ]
  },
  {
   "cell_type": "code",
   "execution_count": 7,
   "metadata": {},
   "outputs": [
    {
     "name": "stdout",
     "output_type": "stream",
     "text": [
      "[ 0  1  2  3  4  5  6  7  8  9 10 11 12 13 14]\n",
      "\n",
      "[ 3  9 15]\n"
     ]
    }
   ],
   "source": [
    "# there are lots of other ways to create numpy arrays\n",
    "vec2 = np.arange(0,15)\n",
    "print(vec2)\n",
    "print('')\n",
    "vec3 = np.arange(3,21,6)\n",
    "print(vec3)\n"
   ]
  },
  {
   "cell_type": "code",
   "execution_count": 8,
   "metadata": {},
   "outputs": [
    {
     "name": "stdout",
     "output_type": "stream",
     "text": [
      "[0.         0.55555556 1.11111111 1.66666667 2.22222222 2.77777778\n",
      " 3.33333333 3.88888889 4.44444444 5.        ]\n",
      "\n",
      "[[0.         0.55555556]\n",
      " [1.11111111 1.66666667]\n",
      " [2.22222222 2.77777778]\n",
      " [3.33333333 3.88888889]\n",
      " [4.44444444 5.        ]]\n",
      "[[0.         0.55555556]\n",
      " [1.11111111 1.66666667]\n",
      " [2.22222222 2.77777778]\n",
      " [3.33333333 3.88888889]\n",
      " [4.44444444 5.        ]]\n",
      "[0.         0.55555556 1.11111111 1.66666667 2.22222222 2.77777778\n",
      " 3.33333333 3.88888889 4.44444444 5.        ]\n"
     ]
    }
   ],
   "source": [
    "\n",
    "vec4 = np.linspace(0,5,10)\n",
    "print(vec4)\n",
    "print('')\n",
    "print(vec4.reshape(5,2))\n",
    "vec4_reshaped = vec4.reshape(5,2)\n",
    "print(vec4_reshaped)\n",
    "print(vec4)"
   ]
  },
  {
   "cell_type": "code",
   "execution_count": 9,
   "metadata": {},
   "outputs": [
    {
     "name": "stdout",
     "output_type": "stream",
     "text": [
      "[[0. 0. 0.]\n",
      " [0. 0. 0.]\n",
      " [0. 0. 0.]\n",
      " [0. 0. 0.]\n",
      " [0. 0. 0.]]\n",
      "\n",
      "[[1. 1. 1. 1. 1.]\n",
      " [1. 1. 1. 1. 1.]\n",
      " [1. 1. 1. 1. 1.]]\n",
      "\n",
      "[[1. 0. 0. 0. 0.]\n",
      " [0. 1. 0. 0. 0.]\n",
      " [0. 0. 1. 0. 0.]\n",
      " [0. 0. 0. 1. 0.]\n",
      " [0. 0. 0. 0. 1.]]\n"
     ]
    }
   ],
   "source": [
    "mat2 = np.zeros([5,3])\n",
    "print(mat2)\n",
    "mat3 = np.ones((3,5))\n",
    "print('')\n",
    "print(mat3)\n",
    "mat4 = np.eye(5)\n",
    "print('')\n",
    "print(mat4)"
   ]
  },
  {
   "cell_type": "code",
   "execution_count": 10,
   "metadata": {},
   "outputs": [
    {
     "name": "stdout",
     "output_type": "stream",
     "text": [
      "[1 2 3 4 5]\n",
      "[3 4 5 6 7]\n",
      "[ 4  6  8 10 12]\n",
      "[ 3  8 15 24 35]\n",
      "[1.         0.5        0.33333333 0.25       0.2       ]\n",
      "[1.73205081 2.         2.23606798 2.44948974 2.64575131]\n"
     ]
    }
   ],
   "source": [
    "# we can +-*/ arrays together if they're the right size\n",
    "vec5 = np.arange(1,6)\n",
    "vec6 = np.arange(3,8)\n",
    "print(vec5)\n",
    "print(vec6)\n",
    "print(vec5+vec6)\n",
    "print(vec5*vec6)\n",
    "print(1/vec5)\n",
    "print(np.sqrt(vec6))"
   ]
  },
  {
   "cell_type": "code",
   "execution_count": 11,
   "metadata": {},
   "outputs": [
    {
     "name": "stdout",
     "output_type": "stream",
     "text": [
      "[[1 2 1]\n",
      " [4 5 9]\n",
      " [1 8 9]]\n",
      "\n",
      "[1 2 3]\n",
      "\n",
      "[ 8 41 44]\n"
     ]
    }
   ],
   "source": [
    "# we can do matrix multiplication\n",
    "print(mat)\n",
    "print('')\n",
    "print(vec)\n",
    "print()\n",
    "product = np.matmul(mat,vec)\n",
    "print(product)"
   ]
  },
  {
   "cell_type": "code",
   "execution_count": 12,
   "metadata": {},
   "outputs": [
    {
     "name": "stdout",
     "output_type": "stream",
     "text": [
      "[1. 2. 3.]\n",
      "\n",
      "[[ 0.5         0.18518519 -0.24074074]\n",
      " [ 0.5        -0.14814815  0.09259259]\n",
      " [-0.5         0.11111111  0.05555556]]\n"
     ]
    }
   ],
   "source": [
    "print(np.linalg.solve(mat,product))\n",
    "print('')\n",
    "print(np.linalg.inv(mat))"
   ]
  },
  {
   "cell_type": "code",
   "execution_count": 13,
   "metadata": {},
   "outputs": [
    {
     "name": "stdout",
     "output_type": "stream",
     "text": [
      "['blue' 'red' 'orange' 'purple' 'purple' 'orange' 'Red' '6']\n",
      "['6' 'Red' 'blue' 'orange' 'purple' 'red']\n"
     ]
    }
   ],
   "source": [
    "# we can find the unique values in an array\n",
    "vec7 = np.array(['blue','red','orange','purple','purple','orange','Red',6])\n",
    "print(vec7)\n",
    "print(np.unique(vec7))"
   ]
  },
  {
   "cell_type": "code",
   "execution_count": 14,
   "metadata": {},
   "outputs": [
    {
     "name": "stdout",
     "output_type": "stream",
     "text": [
      "[[0.55167621 0.80568568 0.44583378 0.25862208 0.07043699]\n",
      " [0.30510318 0.51795384 0.64484625 0.05451928 0.03972515]\n",
      " [0.83523613 0.66274376 0.6947893  0.04882412 0.83245422]\n",
      " [0.78569267 0.96044314 0.37311597 0.58325275 0.88039612]\n",
      " [0.66976888 0.58251505 0.66041276 0.80784221 0.43397842]]\n",
      "\n",
      "[[-0.2930719   0.59219525  0.59875564  0.74831453 -0.39912787]\n",
      " [-0.45329425  0.97660731 -0.20669348  2.86680947 -0.43870459]\n",
      " [ 0.84832137 -0.92449506 -1.19393856  1.27038009  0.25000074]\n",
      " [ 0.70864624 -0.69899007  1.24171482  0.93634856  0.50225373]\n",
      " [ 0.7669805  -0.12255538 -1.11346671 -0.08991341  1.18674242]\n",
      " [-2.96814781  1.47489379 -0.28141331 -1.14950297  0.42798659]\n",
      " [ 0.79877807 -0.56597891 -0.65282728  1.66503049 -1.09366907]\n",
      " [ 0.51101829 -1.90159051  1.22628728  0.34085734  0.56039039]\n",
      " [-0.84642495 -0.68319958 -0.40279339 -0.62153108 -0.599165  ]\n",
      " [-0.34394483 -1.8043444   1.45166361  0.70219037  2.5885354 ]]\n"
     ]
    }
   ],
   "source": [
    "# we can also use numpy to generate samples of a random variable\n",
    "rand_mat = np.random.rand(5,5) # uniform random variable\n",
    "print(rand_mat)\n",
    "rand_mat2 = np.random.randn(10,5) # standard normal random variable\n",
    "print('')\n",
    "print(rand_mat2)"
   ]
  },
  {
   "cell_type": "code",
   "execution_count": 15,
   "metadata": {},
   "outputs": [
    {
     "name": "stdout",
     "output_type": "stream",
     "text": [
      "0.5402347176110406\n",
      "1.1012884048165579\n"
     ]
    }
   ],
   "source": [
    "# we can also use numpy for statistical tools on arrays\n",
    "print(np.mean(rand_mat))\n",
    "print(np.std(rand_mat2))"
   ]
  },
  {
   "cell_type": "code",
   "execution_count": 16,
   "metadata": {},
   "outputs": [
    {
     "name": "stdout",
     "output_type": "stream",
     "text": [
      "0.03972515193696324\n",
      "2.866809469690187\n"
     ]
    }
   ],
   "source": [
    "print(np.min(rand_mat))\n",
    "print(np.max(rand_mat2))"
   ]
  },
  {
   "cell_type": "code",
   "execution_count": 17,
   "metadata": {},
   "outputs": [],
   "source": [
    "# break here for next video!"
   ]
  },
  {
   "cell_type": "code",
   "execution_count": 18,
   "metadata": {},
   "outputs": [
    {
     "name": "stdout",
     "output_type": "stream",
     "text": [
      "[ 0.54360968  0.98198753  0.27834735  0.46599281  0.98114317  0.41336872\n",
      " -0.47876992  1.6495076  -0.87562995 -2.36078701 -0.76167178 -0.32136802\n",
      " -0.9986253   0.23896709 -1.01526411 -0.78536501 -0.0368493  -0.25564473\n",
      "  0.89261238]\n",
      "-0.478769916972336\n"
     ]
    }
   ],
   "source": [
    "# how do we access entries in a numpy vector\n",
    "rand_vec = np.random.randn(19)\n",
    "print(rand_vec)\n",
    "print(rand_vec[6])"
   ]
  },
  {
   "cell_type": "code",
   "execution_count": 19,
   "metadata": {},
   "outputs": [
    {
     "name": "stdout",
     "output_type": "stream",
     "text": [
      "[ 0.98114317  0.41336872 -0.47876992  1.6495076  -0.87562995]\n"
     ]
    }
   ],
   "source": [
    "# we can access multiple entries at once using :\n",
    "print(rand_vec[4:9])"
   ]
  },
  {
   "cell_type": "code",
   "execution_count": 20,
   "metadata": {},
   "outputs": [
    {
     "name": "stdout",
     "output_type": "stream",
     "text": [
      "[ 0  3  6  9 12]\n",
      "[ 0.54360968  0.46599281 -0.47876992 -2.36078701 -0.9986253 ]\n"
     ]
    }
   ],
   "source": [
    "# we can also access multiple non-consecutive entries using np.arange\n",
    "print(np.arange(0,15,3))\n",
    "print(rand_vec[np.arange(0,15,3)])"
   ]
  },
  {
   "cell_type": "code",
   "execution_count": 21,
   "metadata": {},
   "outputs": [
    {
     "name": "stdout",
     "output_type": "stream",
     "text": [
      "[[0.55167621 0.80568568 0.44583378 0.25862208 0.07043699]\n",
      " [0.30510318 0.51795384 0.64484625 0.05451928 0.03972515]\n",
      " [0.83523613 0.66274376 0.6947893  0.04882412 0.83245422]\n",
      " [0.78569267 0.96044314 0.37311597 0.58325275 0.88039612]\n",
      " [0.66976888 0.58251505 0.66041276 0.80784221 0.43397842]]\n",
      "0.6448462520705511\n",
      "0.6448462520705511\n"
     ]
    }
   ],
   "source": [
    "# what about matrices\n",
    "print(rand_mat)\n",
    "print(rand_mat[1][2])\n",
    "print(rand_mat[1,2])\n"
   ]
  },
  {
   "cell_type": "code",
   "execution_count": 22,
   "metadata": {},
   "outputs": [
    {
     "name": "stdout",
     "output_type": "stream",
     "text": [
      "[[0.80568568 0.44583378]\n",
      " [0.51795384 0.64484625]]\n"
     ]
    }
   ],
   "source": [
    "print(rand_mat[0:2,1:3])"
   ]
  },
  {
   "cell_type": "code",
   "execution_count": 23,
   "metadata": {},
   "outputs": [
    {
     "name": "stdout",
     "output_type": "stream",
     "text": [
      "[ 0.54360968  0.98198753  0.27834735  0.46599281  0.98114317  0.41336872\n",
      " -0.47876992  1.6495076  -0.87562995 -2.36078701 -0.76167178 -0.32136802\n",
      " -0.9986253   0.23896709 -1.01526411 -0.78536501 -0.0368493  -0.25564473\n",
      "  0.89261238]\n",
      "\n",
      "[ 0.54360968  0.98198753  0.27834735  4.          4.          0.41336872\n",
      " -0.47876992  1.6495076  -0.87562995 -2.36078701 -0.76167178 -0.32136802\n",
      " -0.9986253   0.23896709 -1.01526411 -0.78536501 -0.0368493  -0.25564473\n",
      "  0.89261238]\n",
      "\n",
      "[ 0.54360968  0.98198753  0.27834735  1.          2.          0.41336872\n",
      " -0.47876992  1.6495076  -0.87562995 -2.36078701 -0.76167178 -0.32136802\n",
      " -0.9986253   0.23896709 -1.01526411 -0.78536501 -0.0368493  -0.25564473\n",
      "  0.89261238]\n"
     ]
    }
   ],
   "source": [
    "# let's change some values in an array!\n",
    "print(rand_vec)\n",
    "rand_vec[3:5] = 4\n",
    "print('')\n",
    "print(rand_vec)\n",
    "rand_vec[3:5] = [1,2]\n",
    "print('')\n",
    "print(rand_vec)"
   ]
  },
  {
   "cell_type": "code",
   "execution_count": 24,
   "metadata": {},
   "outputs": [
    {
     "name": "stdout",
     "output_type": "stream",
     "text": [
      "[[0.55167621 0.80568568 0.44583378 0.25862208 0.07043699]\n",
      " [0.30510318 0.51795384 0.64484625 0.05451928 0.03972515]\n",
      " [0.83523613 0.66274376 0.6947893  0.04882412 0.83245422]\n",
      " [0.78569267 0.96044314 0.37311597 0.58325275 0.88039612]\n",
      " [0.66976888 0.58251505 0.66041276 0.80784221 0.43397842]]\n",
      "\n",
      "[[0.55167621 0.80568568 0.44583378 0.25862208 0.07043699]\n",
      " [0.30510318 0.51795384 0.64484625 0.         0.        ]\n",
      " [0.83523613 0.66274376 0.6947893  0.         0.        ]\n",
      " [0.78569267 0.96044314 0.37311597 0.58325275 0.88039612]\n",
      " [0.66976888 0.58251505 0.66041276 0.80784221 0.43397842]]\n"
     ]
    }
   ],
   "source": [
    "print(rand_mat)\n",
    "rand_mat[1:3,3:5] = 0\n",
    "print('')\n",
    "print(rand_mat)"
   ]
  },
  {
   "cell_type": "code",
   "execution_count": 25,
   "metadata": {},
   "outputs": [
    {
     "name": "stdout",
     "output_type": "stream",
     "text": [
      "[[0.55167621 0.80568568 0.44583378]\n",
      " [0.30510318 0.51795384 0.64484625]]\n",
      "[[3. 3. 3.]\n",
      " [3. 3. 3.]]\n"
     ]
    }
   ],
   "source": [
    "sub_mat = rand_mat[0:2,0:3]\n",
    "print(sub_mat)\n",
    "sub_mat[:] = 3\n",
    "print(sub_mat)\n"
   ]
  },
  {
   "cell_type": "code",
   "execution_count": 26,
   "metadata": {},
   "outputs": [
    {
     "name": "stdout",
     "output_type": "stream",
     "text": [
      "[[3.         3.         3.         0.25862208 0.07043699]\n",
      " [3.         3.         3.         0.         0.        ]\n",
      " [0.83523613 0.66274376 0.6947893  0.         0.        ]\n",
      " [0.78569267 0.96044314 0.37311597 0.58325275 0.88039612]\n",
      " [0.66976888 0.58251505 0.66041276 0.80784221 0.43397842]]\n"
     ]
    }
   ],
   "source": [
    "print(rand_mat)"
   ]
  },
  {
   "cell_type": "code",
   "execution_count": 27,
   "metadata": {},
   "outputs": [
    {
     "name": "stdout",
     "output_type": "stream",
     "text": [
      "[[99. 99. 99.]\n",
      " [99. 99. 99.]]\n",
      "[[3.         3.         3.         0.25862208 0.07043699]\n",
      " [3.         3.         3.         0.         0.        ]\n",
      " [0.83523613 0.66274376 0.6947893  0.         0.        ]\n",
      " [0.78569267 0.96044314 0.37311597 0.58325275 0.88039612]\n",
      " [0.66976888 0.58251505 0.66041276 0.80784221 0.43397842]]\n"
     ]
    }
   ],
   "source": [
    "sub_mat2 = rand_mat[0:2,0:3].copy()\n",
    "sub_mat2[:] = 99\n",
    "print(sub_mat2)\n",
    "print(rand_mat)\n"
   ]
  },
  {
   "cell_type": "code",
   "execution_count": 28,
   "metadata": {},
   "outputs": [],
   "source": [
    "# break here for next video"
   ]
  },
  {
   "cell_type": "code",
   "execution_count": 29,
   "metadata": {},
   "outputs": [
    {
     "name": "stdout",
     "output_type": "stream",
     "text": [
      "[-0.58236413  1.012423   -0.85461098  0.4794643  -0.19314215 -0.14117978\n",
      " -0.7552069   0.06590289  0.40000894 -0.36939261 -0.76376184 -0.16271494\n",
      " -1.33977357  0.88683654  1.04303272]\n",
      "[False  True False  True False False False  True  True False False False\n",
      " False  True  True]\n",
      "[1.012423   0.4794643  0.06590289 0.40000894 0.88683654 1.04303272]\n"
     ]
    }
   ],
   "source": [
    "# we can also access entries with logicals\n",
    "rand_vec = np.random.randn(15)\n",
    "\n",
    "print(rand_vec)\n",
    "print(rand_vec>0)\n",
    "print(rand_vec[rand_vec>0])"
   ]
  },
  {
   "cell_type": "code",
   "execution_count": 30,
   "metadata": {},
   "outputs": [
    {
     "name": "stdout",
     "output_type": "stream",
     "text": [
      "[[-0.2930719   0.59219525  0.59875564  0.74831453 -0.39912787]\n",
      " [-0.45329425  0.97660731 -0.20669348  2.86680947 -0.43870459]\n",
      " [ 0.84832137 -0.92449506 -1.19393856  1.27038009  0.25000074]\n",
      " [ 0.70864624 -0.69899007  1.24171482  0.93634856  0.50225373]\n",
      " [ 0.7669805  -0.12255538 -1.11346671 -0.08991341  1.18674242]\n",
      " [-2.96814781  1.47489379 -0.28141331 -1.14950297  0.42798659]\n",
      " [ 0.79877807 -0.56597891 -0.65282728  1.66503049 -1.09366907]\n",
      " [ 0.51101829 -1.90159051  1.22628728  0.34085734  0.56039039]\n",
      " [-0.84642495 -0.68319958 -0.40279339 -0.62153108 -0.599165  ]\n",
      " [-0.34394483 -1.8043444   1.45166361  0.70219037  2.5885354 ]]\n",
      "[0.59219525 0.59875564 0.74831453 0.97660731 2.86680947 0.84832137\n",
      " 1.27038009 0.25000074 0.70864624 1.24171482 0.93634856 0.50225373\n",
      " 0.7669805  1.18674242 1.47489379 0.42798659 0.79877807 1.66503049\n",
      " 0.51101829 1.22628728 0.34085734 0.56039039 1.45166361 0.70219037\n",
      " 2.5885354 ]\n"
     ]
    }
   ],
   "source": [
    "print(rand_mat2)\n",
    "print(rand_mat2[rand_mat2>0])"
   ]
  },
  {
   "cell_type": "code",
   "execution_count": 31,
   "metadata": {},
   "outputs": [
    {
     "name": "stdout",
     "output_type": "stream",
     "text": [
      "[-0.58236413  1.012423   -0.85461098  0.4794643  -0.19314215 -0.14117978\n",
      " -0.7552069   0.06590289  0.40000894 -0.36939261 -0.76376184 -0.16271494\n",
      " -1.33977357  0.88683654  1.04303272]\n",
      "\n",
      "[-0.58236413 -5.         -0.85461098  0.4794643  -0.19314215 -0.14117978\n",
      " -0.7552069   0.06590289  0.40000894 -0.36939261 -0.76376184 -0.16271494\n",
      " -1.33977357 -5.         -5.        ]\n"
     ]
    }
   ],
   "source": [
    "\n",
    "print(rand_vec)\n",
    "print('')\n",
    "rand_vec[rand_vec>0.5] = -5\n",
    "print(rand_vec)"
   ]
  },
  {
   "cell_type": "code",
   "execution_count": 32,
   "metadata": {},
   "outputs": [],
   "source": [
    "# let's save some arrays on the disk for use later!\n",
    "np.save('saved_file_name',rand_mat2)\n"
   ]
  },
  {
   "cell_type": "code",
   "execution_count": 33,
   "metadata": {},
   "outputs": [],
   "source": [
    "np.savez('zipped_file_name',rand_mat=rand_mat,rand_mat2=rand_mat2)"
   ]
  },
  {
   "cell_type": "code",
   "execution_count": 34,
   "metadata": {},
   "outputs": [
    {
     "name": "stdout",
     "output_type": "stream",
     "text": [
      "[[-0.2930719   0.59219525  0.59875564  0.74831453 -0.39912787]\n",
      " [-0.45329425  0.97660731 -0.20669348  2.86680947 -0.43870459]\n",
      " [ 0.84832137 -0.92449506 -1.19393856  1.27038009  0.25000074]\n",
      " [ 0.70864624 -0.69899007  1.24171482  0.93634856  0.50225373]\n",
      " [ 0.7669805  -0.12255538 -1.11346671 -0.08991341  1.18674242]\n",
      " [-2.96814781  1.47489379 -0.28141331 -1.14950297  0.42798659]\n",
      " [ 0.79877807 -0.56597891 -0.65282728  1.66503049 -1.09366907]\n",
      " [ 0.51101829 -1.90159051  1.22628728  0.34085734  0.56039039]\n",
      " [-0.84642495 -0.68319958 -0.40279339 -0.62153108 -0.599165  ]\n",
      " [-0.34394483 -1.8043444   1.45166361  0.70219037  2.5885354 ]]\n",
      "\n",
      "<numpy.lib.npyio.NpzFile object at 0x000002A07194CA50>\n"
     ]
    }
   ],
   "source": [
    "# now let's load it\n",
    "loaded_vec = np.load('saved_file_name.npy')\n",
    "loaded_zip = np.load('zipped_file_name.npz')\n",
    "\n",
    "print(loaded_vec)\n",
    "print('')\n",
    "print(loaded_zip)"
   ]
  },
  {
   "cell_type": "code",
   "execution_count": 35,
   "metadata": {},
   "outputs": [
    {
     "name": "stdout",
     "output_type": "stream",
     "text": [
      "[[3.         3.         3.         0.25862208 0.07043699]\n",
      " [3.         3.         3.         0.         0.        ]\n",
      " [0.83523613 0.66274376 0.6947893  0.         0.        ]\n",
      " [0.78569267 0.96044314 0.37311597 0.58325275 0.88039612]\n",
      " [0.66976888 0.58251505 0.66041276 0.80784221 0.43397842]]\n",
      "\n",
      "[[-0.2930719   0.59219525  0.59875564  0.74831453 -0.39912787]\n",
      " [-0.45329425  0.97660731 -0.20669348  2.86680947 -0.43870459]\n",
      " [ 0.84832137 -0.92449506 -1.19393856  1.27038009  0.25000074]\n",
      " [ 0.70864624 -0.69899007  1.24171482  0.93634856  0.50225373]\n",
      " [ 0.7669805  -0.12255538 -1.11346671 -0.08991341  1.18674242]\n",
      " [-2.96814781  1.47489379 -0.28141331 -1.14950297  0.42798659]\n",
      " [ 0.79877807 -0.56597891 -0.65282728  1.66503049 -1.09366907]\n",
      " [ 0.51101829 -1.90159051  1.22628728  0.34085734  0.56039039]\n",
      " [-0.84642495 -0.68319958 -0.40279339 -0.62153108 -0.599165  ]\n",
      " [-0.34394483 -1.8043444   1.45166361  0.70219037  2.5885354 ]]\n",
      "[[3.         3.         3.         0.25862208 0.07043699]\n",
      " [3.         3.         3.         0.         0.        ]\n",
      " [0.83523613 0.66274376 0.6947893  0.         0.        ]\n",
      " [0.78569267 0.96044314 0.37311597 0.58325275 0.88039612]\n",
      " [0.66976888 0.58251505 0.66041276 0.80784221 0.43397842]]\n"
     ]
    }
   ],
   "source": [
    "print(loaded_zip['rand_mat'])\n",
    "print('')\n",
    "print(loaded_zip['rand_mat2'])\n",
    "\n",
    "new_array  = loaded_zip['rand_mat']\n",
    "print(new_array)"
   ]
  },
  {
   "cell_type": "code",
   "execution_count": 36,
   "metadata": {},
   "outputs": [
    {
     "name": "stdout",
     "output_type": "stream",
     "text": [
      "[[3.         3.         3.         0.25862208 0.07043699]\n",
      " [3.         3.         3.         0.         0.        ]\n",
      " [0.83523613 0.66274376 0.6947893  0.         0.        ]\n",
      " [0.78569267 0.96044314 0.37311597 0.58325275 0.88039612]\n",
      " [0.66976888 0.58251505 0.66041276 0.80784221 0.43397842]]\n",
      "\n",
      "[[3.         3.         3.         0.25862208 0.07043699]\n",
      " [3.         3.         3.         0.         0.        ]\n",
      " [0.83523613 0.66274376 0.6947893  0.         0.        ]\n",
      " [0.78569267 0.96044314 0.37311597 0.58325275 0.88039612]\n",
      " [0.66976888 0.58251505 0.66041276 0.80784221 0.43397842]]\n"
     ]
    }
   ],
   "source": [
    "# we can also save/load as text files...but only single variables\n",
    "np.savetxt('text_file_name.txt',rand_mat,delimiter=',')\n",
    "rand_mat_txt = np.loadtxt('text_file_name.txt',delimiter=',')\n",
    "print(rand_mat)\n",
    "print('')\n",
    "print(rand_mat_txt)"
   ]
  },
  {
   "cell_type": "code",
   "execution_count": null,
   "metadata": {},
   "outputs": [],
   "source": []
  }
 ],
 "metadata": {
  "kernelspec": {
   "display_name": "Python 3",
   "language": "python",
   "name": "python3"
  },
  "language_info": {
   "codemirror_mode": {
    "name": "ipython",
    "version": 3
   },
   "file_extension": ".py",
   "mimetype": "text/x-python",
   "name": "python",
   "nbconvert_exporter": "python",
   "pygments_lexer": "ipython3",
   "version": "3.11.0"
  },
  "vscode": {
   "interpreter": {
    "hash": "5238573367df39f7286bb46f9ff5f08f63a01a80960060ce41e3c79b190280fa"
   }
  }
 },
 "nbformat": 4,
 "nbformat_minor": 2
}
